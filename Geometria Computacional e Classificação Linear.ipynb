{
  "cells": [
    {
      "cell_type": "markdown",
      "source": [
        "---\n",
        "Trabalho Prático 01 da Disciplina DCC207 - Algoritmos 2\n",
        "# Geometria Computacional e Classificação Linear\n",
        "---\n",
        "Alunos:\n",
        "- Juan Braga\n",
        "- Lucas Almeida\n",
        "- Luiz Romanhol"
      ],
      "metadata": {
        "id": "fCr_roshyHpx"
      }
    },
    {
      "cell_type": "markdown",
      "source": [
        "# 1. Introdução"
      ],
      "metadata": {
        "id": "3jtIQB26yWPG"
      }
    },
    {
      "cell_type": "markdown",
      "source": [
        "O objetivo deste trabalho é empregar algoritmos de `geometria computacional` para a criação de um modelo de `classificação linear`.\n",
        "\n",
        "**Descrição:** A partir de um conjunto de dados de treinamento, o algoritmo deve encontrar uma envoltória (contorno) que delimite uma região de classificação para um conjunto de dados (pontos no plano cartesiano). A partir de duas dessas envoltórias, será possível determinar se há separabilidade (ou se elas tem áreas sobrepostas) e então determinar uma reta que separe os dois conjuntos de dados."
      ],
      "metadata": {
        "id": "di9R-pF0yWoE"
      }
    },
    {
      "cell_type": "markdown",
      "source": [
        "**Apresentação do modelo:** Cada etapa do algoritmo será apresentada e explicada separadamente, e utilizará um conjunto de dados aleatório gerado a cada execução. O leitor pode livremente re-executar as células das seções 1 a 5 para visualizar conjuntos de dados diferentes.\n",
        "\n",
        "Passos envolvidos no modelo (enumerado segundo as seções deste documento/arquivo):\n",
        "2. Envoltória Convexa (encontrar o contorno)\n",
        "\n",
        "3. Varredura Linear (definir separabilidade/sobreposição entre modelos)\n",
        "\n",
        "4. Modelo de Classificação (encontrar a reta de separabilidade)\n",
        "\n",
        "5. Classificador e cálculo de métricas (computar teste e calcular precisão do modelo gerado)"
      ],
      "metadata": {
        "id": "bCAj1bTjyU4-"
      }
    },
    {
      "cell_type": "markdown",
      "source": [
        "Uma vez apresentado o algoritmo e sua interface definida, serão realizados testes e calculadas métricas de precisão para o modelo em diferentes bases de dados."
      ],
      "metadata": {
        "id": "32pp-JUbzpOr"
      }
    },
    {
      "cell_type": "markdown",
      "source": [
        "## 1.1 Primitivas\n",
        "Para a execução dos algoritmos de geometria computacional, serão utilizadas algumas primitivas apresentadas em aula:"
      ],
      "metadata": {
        "id": "wnTmv7ZO5oB2"
      }
    },
    {
      "cell_type": "markdown",
      "source": [
        "**Inicializando bibliotecas**"
      ],
      "metadata": {
        "id": "FeAa_YSmlvC7"
      }
    },
    {
      "cell_type": "code",
      "source": [
        "import random\n",
        "import math\n",
        "import matplotlib.pyplot as plt\n",
        "import numpy as np\n",
        "import functools\n",
        "import pandas as pd\n",
        "import seaborn as sns"
      ],
      "metadata": {
        "id": "tDU7qVXurKbV"
      },
      "execution_count": 430,
      "outputs": []
    },
    {
      "cell_type": "markdown",
      "source": [
        "> A função `orientacao()` determina a orientação relativa entre três pontos no plano cartesiano. A partir da determinação do sinal do determinante da matriz formada pelos três pontos, é possível determinar se os pontos estão em sentido horário, anti-horário ou colineares. Com esta informação, se soubermos que dois pontos pertencem a uma reta, podemos determinar para qual lado o terceiro ponto está.\n",
        "\n",
        "Tal escolha almeja evitar operações de divisão entre os pontos, que podem produzir imprecisões indesejadas que podem se propagar ao longo do algoritmo (o fenômeno chamado de *underflow*).\n",
        "\n",
        "Seguindo o Teorema 22.1 do livro Algorithm Design and Applications (por Goodrich e Tamassia), de 2015."
      ],
      "metadata": {
        "id": "lM3cmamyuBfa"
      }
    },
    {
      "cell_type": "code",
      "source": [
        "def orientacao(p, q, r):\n",
        "\t\"\"\"Retorna a orientação do caminho P-Q-R\n",
        "\t:params p, q, r: pontos\n",
        "\t:return: 0 = colinear, 1 = sentido horário, 2 = sentido anti-horário\n",
        "\t\"\"\"\n",
        "\tval = (q[1] - p[1]) * (r[0] - q[0]) - \\\n",
        "\t\t  (q[0] - p[0]) * (r[1] - q[1])\n",
        "\n",
        "\tif val == 0:\n",
        "\t\treturn 0\n",
        "\telif val > 0:\n",
        "\t\treturn 1\n",
        "\telse:\n",
        "\t\treturn 2"
      ],
      "metadata": {
        "id": "UIAfB3fZ5yyq"
      },
      "execution_count": 431,
      "outputs": []
    },
    {
      "cell_type": "markdown",
      "source": [
        "> Aqui, o uso da distância quadrada na função `distanciaQuadrada` também se dá para evitar o uso de divisão em operações mais tradicionais, como a Distância Euclidiana."
      ],
      "metadata": {
        "id": "XfzSBaQfutf0"
      }
    },
    {
      "cell_type": "code",
      "source": [
        "def distanciaQuadrada(ancora, ponto):\n",
        "\t\"\"\"Retorna o quadrado da distância entre o ponto âncora e o ponto dado\"\"\"\n",
        "\tdist_ancora_ponto = (ponto[0] - ancora[0])**2 + (ponto[1] - ancora[1])**2\n",
        "\treturn dist_ancora_ponto"
      ],
      "metadata": {
        "id": "VC-3WEsW5z8y"
      },
      "execution_count": 432,
      "outputs": []
    },
    {
      "cell_type": "markdown",
      "source": [
        "> Uma função para determinar se um dado ponto está sobre um segmento de linha (um par de pontos)."
      ],
      "metadata": {
        "id": "hTSwOnDHvKhp"
      }
    },
    {
      "cell_type": "code",
      "source": [
        "def estaNoSegmento(segment, point):\n",
        "\t\"\"\"Retorna True se o ponto está no segmento de linha\"\"\"\n",
        "\tif (point[0] <= max(segment[0][0], segment[1][0]) and \\\n",
        "\t\tpoint[0] >= min(segment[0][0], segment[1][0]) and \\\n",
        "\t\tpoint[1] <= max(segment[0][1], segment[1][1]) and \\\n",
        "\t\tpoint[1] >= min(segment[0][1], segment[1][1])):\n",
        "\t\treturn True\n",
        "\treturn False"
      ],
      "metadata": {
        "id": "C0VPgb5E-xYV"
      },
      "execution_count": 433,
      "outputs": []
    },
    {
      "cell_type": "markdown",
      "source": [
        "A função `segmentosInterceptam` determina se dois segmentos se interceptam.\n",
        "\n",
        "Como cada segmento é representado como um par de pontos no plano cartesiano, a função `orientacao` é utilizada para determinar se cada ponto de um segmento está de um lado diferente do outro segmento."
      ],
      "metadata": {
        "id": "a2nF8QYZvdj4"
      }
    },
    {
      "cell_type": "code",
      "source": [
        "def segmentosInterceptam(seg1, seg2):\n",
        "\t\"\"\"Retorna True se os segmentos se interceptam\"\"\"\n",
        "\n",
        "\t# não considera interseção se os segmentos compartilham um vértice\n",
        "\tif np.array([seg1[0] == seg2[0], seg1[0] == seg2[1], seg1[1] == seg2[0], seg1[1] == seg2[1]]).any():\n",
        "\t\treturn False\n",
        "\n",
        "\td1 = orientacao(seg2[0], seg2[1], seg1[0])\n",
        "\td2 = orientacao(seg2[0], seg2[1], seg1[1])\n",
        "\td3 = orientacao(seg1[0], seg1[1], seg2[0])\n",
        "\td4 = orientacao(seg1[0], seg1[1], seg2[1])\n",
        "\n",
        "\tif (d1==1 and d2==2) or (d1==2 and d2==1) and \\\n",
        "\t   (d3==1 and d4==2) or (d3==2 and d4==1):\n",
        "\t\treturn True\n",
        "\telif (d1==0 and estaNoSegmento(seg2, seg1[0])) or \\\n",
        "\t\t (d2==0 and estaNoSegmento(seg2, seg1[1])) or \\\n",
        "\t\t (d3==0 and estaNoSegmento(seg1, seg2[0])) or \\\n",
        "\t\t (d4==0 and estaNoSegmento(seg1, seg2[1])):\n",
        "\t\treturn True\n",
        "\treturn False"
      ],
      "metadata": {
        "id": "tJxl5qr--zDR"
      },
      "execution_count": 434,
      "outputs": []
    },
    {
      "cell_type": "markdown",
      "source": [
        "## 1.2 Funções auxiliares\n",
        "\n",
        "Para a implementação do algoritmo, serão aqui inicializadas bibliotecas e definidas funções para gerar conjuntos de dados aleatórios e também \"plotá-los\"."
      ],
      "metadata": {
        "id": "l3bdLyRnkYee"
      }
    },
    {
      "cell_type": "markdown",
      "source": [
        "**Geração de pontos:**\n",
        "\n",
        "> Função `geraRect` produz uma nuvem de pontos aleatórios dentro de um retângulo (bom para produzir casos com pontos colineares ao âncora)\n",
        "\n",
        "> Função `geraCirc` produz uma nuvem de pontos aleatórios dentro de um círculo.\n",
        "\n",
        "> Função `geraPontos` escolhe aleatóriamente entre `geraRect` e `geraCirc` para gerar os pontos.\n",
        "\n",
        "> Função `plotaPontos` usa a biblioteca matplotlib para visualizar um conjunto de pontos."
      ],
      "metadata": {
        "id": "th_S6XJypN_L"
      }
    },
    {
      "cell_type": "code",
      "execution_count": 435,
      "metadata": {
        "id": "sMjoOAC4tdh4"
      },
      "outputs": [],
      "source": [
        "def geraRect(num, intervalo):\n",
        "\t\"\"\"Gera pontos aleatórios dentro de um retângulo\"\"\"\n",
        "\tpontos = []\n",
        "\tfor _ in range(num):\n",
        "\n",
        "\t\t# Gera um ponto aleatório dentro do intervalo\n",
        "\t\tx = random.randint(intervalo[0], intervalo[1])\n",
        "\t\ty = random.randint(intervalo[0], intervalo[1])\n",
        "\n",
        "\t\tpontos.append((x,y))\n",
        "\treturn pontos"
      ]
    },
    {
      "cell_type": "code",
      "source": [
        "def geraCirc(num, intervalo=(50,100)):\n",
        "\t\"\"\"Gera pontos aleatórios dentro de um círculo\"\"\"\n",
        "\tpontos = []\n",
        "\n",
        "\t# pega o menor valor do intervalo para usar como raio\n",
        "\traio_maximo = min(intervalo)\n",
        "\n",
        "\tfor _ in range(num):\n",
        "\n",
        "\t\t# Gera um ângulo aleatório entre 0 e 2*pi (360 graus)\n",
        "\t\tangulo = random.uniform(0, 2 * math.pi)\n",
        "\n",
        "\t\t# Gera um raio aleatório entre 0 e o raio máximo\n",
        "\t\traio = random.uniform(0, raio_maximo)\n",
        "\n",
        "\t\t# Converte coordenadas polares em coordenadas cartesianas centradas no meio do intervalo\n",
        "\t\tx = raio * math.cos(angulo) + 1.5*intervalo[0]\n",
        "\t\ty = raio * math.sin(angulo) + 1.5*intervalo[0]\n",
        "\n",
        "\t\tpontos.append((int(x), int(y)))\n",
        "\n",
        "\treturn pontos"
      ],
      "metadata": {
        "id": "UkJ-Ze-DqGr9"
      },
      "execution_count": 436,
      "outputs": []
    },
    {
      "cell_type": "code",
      "source": [
        "def geraPontos(num=200, intervalo=(50,100)):\n",
        "\t\"\"\"Gera pontos aleatórios dentro de um retângulo ou círculo\"\"\"\n",
        "\tpontos = []\n",
        "\n",
        "\taleatorio = random.randint(0,1)\n",
        "\n",
        "\tif aleatorio == 0:\n",
        "\t\tpontos = geraRect(num, intervalo)\n",
        "\telse:\n",
        "\t\tpontos = geraCirc(num, intervalo)\n",
        "\n",
        "\treturn pontos"
      ],
      "metadata": {
        "id": "bCSQQVGrqIth"
      },
      "execution_count": 437,
      "outputs": []
    },
    {
      "cell_type": "code",
      "source": [
        "def plotaPontos(pontos):\n",
        "\tplt.scatter(*zip(*pontos), s=5, c='black')\n",
        "\tplt.show()"
      ],
      "metadata": {
        "id": "CaZx_sZsqKAp"
      },
      "execution_count": 438,
      "outputs": []
    },
    {
      "cell_type": "code",
      "source": [
        "def desenha_pontos(points_1, points_2, label_1, label_2):\n",
        "    # Defina cores personalizadas para cada classe\n",
        "    colors = ['red', 'green']\n",
        "\n",
        "    # Crie um gráfico de dispersão com cores mapeadas para os pontos das duas classes\n",
        "    plt.scatter(points_1[:, 0], points_1[:, 1], c=colors[0], label=label_1)\n",
        "    plt.scatter(points_2[:, 0], points_2[:, 1], c=colors[1], label=label_2)\n",
        "\n",
        "    # Adicione a legenda com os rótulos descritivos e as cores correspondentes\n",
        "    plt.legend()"
      ],
      "metadata": {
        "id": "If_IcPom9SlL"
      },
      "execution_count": 439,
      "outputs": []
    },
    {
      "cell_type": "markdown",
      "source": [
        "**Plotar o desenho da envoltória**"
      ],
      "metadata": {
        "id": "RY2d4vEDm779"
      }
    },
    {
      "cell_type": "code",
      "source": [
        "def desenhaEnvoltoria(envoltoria, pontos=None, show=False):\n",
        "\t\"\"\"\n",
        "\tPlota os pontos, e os segmentos da envoltória em vermelho\n",
        "\t:param pontos: Lista de pontos\n",
        "\t:param envoltoria: Lista de pontos que formam a envoltória convexa\n",
        "\t:param show: Se False, apenas gera o plot. Se True, gera o plot e mostra\n",
        "\t:return: None\n",
        "\t\"\"\"\n",
        "\tif pontos is None:\n",
        "\t\t\tpontos = envoltoria\n",
        "\n",
        "\tx, y = zip(*pontos)\n",
        "\tplt.scatter(x, y, s=5, c='black')\n",
        "\n",
        "\t# plt.xlim(0, 1.5*max(x))\n",
        "\t# plt.ylim(0, 1.5*max(y))\n",
        "\n",
        "\tfor i in range(len(envoltoria)):\n",
        "\t\tx = (envoltoria[i][0], envoltoria[(i + 1) % len(envoltoria)][0])\n",
        "\t\ty = (envoltoria[i][1], envoltoria[(i + 1) % len(envoltoria)][1])\n",
        "\n",
        "\t\t# plota o segmento de linha entre o ponto atual e o próximo ponto\n",
        "\t\tplt.plot(x, y, color='red')\n",
        "\n",
        "\tif show:\n",
        "\t\tplt.show()"
      ],
      "metadata": {
        "id": "TacvYiXO2dr7"
      },
      "execution_count": 440,
      "outputs": []
    },
    {
      "cell_type": "markdown",
      "source": [
        "# 2. Envoltória Convexa"
      ],
      "metadata": {
        "id": "LSH8rKvTuJRY"
      }
    },
    {
      "cell_type": "markdown",
      "source": [
        "O primeiro passo para a criação do modelo é encontrar o contorno de um dado conjunto de dados (pontos no plano). Para isso, foi escolhido o algoritmo da `Envoltória Convexa de Graham`."
      ],
      "metadata": {
        "id": "mHJxwJ-F3Ej0"
      }
    },
    {
      "cell_type": "markdown",
      "source": [
        "> **Descrição do algoritmo:**\n",
        "1. Encontrar o ponto com menor coordenada y (se houver empate, escolher o de menor coordenada x). Este ponto é chamado de âncora.\n",
        "2. Ordenar os pontos restantes em ordem crescente de acordo com o ângulo que eles formam com o âncora e a horizontal.\n",
        "3. Iniciar uma pilha vazia.\n",
        "4. Empilhar o âncora e o primeiro ponto da ordenação.\n",
        "5. Para cada ponto restante, enquanto a orientação formada pelos três pontos do topo da pilha for anti-horária, desempilhar o topo da pilha.\n",
        "6. Empilhar o ponto restante."
      ],
      "metadata": {
        "id": "6yQ9JvVf3pCb"
      }
    },
    {
      "cell_type": "markdown",
      "source": [
        "Note que a principal parte do algoritmo se trata do critério com o qual os pontos são ordenados no passo 2. As primitivas `orientacao` e `distanciaQuadrada` são essenciais, pois permitem definir o \"ângulo polar\" relativo entre cada um dos pontos em relação ao ponto âncora, sem usar operações de divisão (como a `atan2` da biblioteca `math`)."
      ],
      "metadata": {
        "id": "Hw2qUyZI2RPH"
      }
    },
    {
      "cell_type": "code",
      "execution_count": 441,
      "metadata": {
        "id": "YVSYcLvRtdiB"
      },
      "outputs": [],
      "source": [
        "def envoltoriaConvexa(pontos):\n",
        "\t\"\"\"\n",
        "\tCalcula a envoltória convexa de uma lista de pontos.\n",
        "\t:return: Lista de pontos que formam a envoltória convexa\n",
        "\t\"\"\"\n",
        "\t# Faz com que a entrada seja uma lista se for dada uma instância de np.array\n",
        "\tpontos = list(pontos)\n",
        "\n",
        "\t# Se houver menos de 3 pontos, não há envoltória convexa\n",
        "\tif len(pontos) <= 3:\n",
        "\t\treturn None\n",
        "\n",
        "\t# Encontre o ponto âncora com a menor coordenada y (e menor x se houver empate)\n",
        "\tponto_ancora = min(pontos, key=lambda p: (p[1], p[0]))\n",
        "\n",
        "\t# Função dentro do escopo de envoltoriaConvexa() para acessar a variável ponto_ancora\n",
        "\tdef comparaAngulos(p1, p2):\n",
        "\t\t\"\"\"Função auxiliar para ordenar os pontos por ângulo polar\"\"\"\n",
        "\t\tdirecao = orientacao(ponto_ancora, p1, p2)\n",
        "\t\tif direcao == 0:\n",
        "\t\t\tif distanciaQuadrada(ponto_ancora, p2) >= distanciaQuadrada(ponto_ancora, p1):\n",
        "\t\t\t\treturn -1\n",
        "\t\t\telse:\n",
        "\t\t\t\treturn 1\n",
        "\t\telif direcao == 2:\n",
        "\t\t\treturn -1\n",
        "\t\telse:\n",
        "\t\t\treturn 1\n",
        "\n",
        "\t# Ordena os pontos por ângulo polar em relação ao ponto âncora (e maior distância se houver empate)\n",
        "\tpontos = sorted(pontos, key=functools.cmp_to_key(comparaAngulos))\n",
        "\n",
        "\t# move o ancora para o inicio da lista (a função sortnão garante permanência de elementos empatados)\n",
        "\tpontos.remove(ponto_ancora)\n",
        "\tpontos.insert(0, ponto_ancora)\n",
        "\n",
        "\t# cria uma pilha e insere os três primeiros pontos nela\n",
        "\tpilha = []\n",
        "\tpilha.append(pontos[0])\n",
        "\tpilha.append(pontos[1])\n",
        "\tpilha.append(pontos[2])\n",
        "\n",
        "\tfor i in range(3, len(pontos)):\n",
        "\t\t# continue removendo o topo enquanto o último ponto e o ponto atual fazem um ângulo horário ou são colineares\n",
        "\t\twhile len(pilha) > 1 and orientacao(pilha[-2], pilha[-1], pontos[i]) != 2:\n",
        "\t\t\tpilha.pop()\n",
        "\t\tpilha.append(pontos[i])\n",
        "\n",
        "\treturn pilha"
      ]
    },
    {
      "cell_type": "markdown",
      "source": [
        "**Visualizando a envoltória encontrada**\n",
        "\n",
        "Utilizando as funções auxiliares da Seção 1, vamos criar uma nuvem de pontos aleatória e checar como a envoltória ficará no plano cartesiano."
      ],
      "metadata": {
        "id": "zLBJoNet4JVr"
      }
    },
    {
      "cell_type": "code",
      "source": [
        "p = geraPontos(200, (-50,0))\n",
        "env = envoltoriaConvexa(p)\n",
        "\n",
        "desenhaEnvoltoria(env, p, show=True)"
      ],
      "metadata": {
        "colab": {
          "base_uri": "https://localhost:8080/",
          "height": 430
        },
        "id": "RR2KfE_UCCLo",
        "outputId": "c3162a16-42f6-42bd-ef3f-156c751ec03c"
      },
      "execution_count": 442,
      "outputs": [
        {
          "output_type": "display_data",
          "data": {
            "text/plain": [
              "<Figure size 640x480 with 1 Axes>"
            ],
            "image/png": "[encoded data removed]"
          },
          "metadata": {}
        }
      ]
    },
    {
      "cell_type": "markdown",
      "source": [
        "# 3. Varredura Linear"
      ],
      "metadata": {
        "id": "5WlMRXE0uPUt"
      }
    },
    {
      "cell_type": "markdown",
      "source": [
        "O segundo passo para a criação do modelo, uma vez que já temos duas envoltórias convexas, é determinar se elas são separáveis ou não (isto é, se há sobreposição entre as áreas das envoltórias). Para isso foi escolhido o algoritmo da `Varredura Linear`.\n",
        "\n",
        "Ele consiste em descobrir se os lados dos polígonos (envoltórias) se cruzam. Isto é feito ao percorrer os pontos da esquerda para a direita, verificando se as retas próximas se encontram com a reta que contém o ponto atual (utilizando a primitiva `orientacao`, veja a seção 1.1 para maiores detalhes)."
      ],
      "metadata": {
        "id": "GiXxNTiT5pog"
      }
    },
    {
      "cell_type": "markdown",
      "source": [
        "O principal componente do algritmo da varredura é sua ordenação, pois é ela que irá ditar sua complexidade assintótica de tempo. Assim, definimos primeiro a implementação de uma `árvore binária balanceada` para garantir uma complexidade $O(n*\\log(n))$, que irá ordenar os pontos de acordo com a coordenada y de cada *endpont* (pontos que compõem cada uma das retas)."
      ],
      "metadata": {
        "id": "zcWq8H7F7qt1"
      }
    },
    {
      "cell_type": "code",
      "source": [
        "# possíveis posições de um ponto em relação a um segmento\n",
        "esquerda, direita = 0, 1\n",
        "\n",
        "class EndPoint:\n",
        "\t\"\"\"Representa um ponto de varredura\n",
        "\t:param ponto: ponto de varredura\n",
        "\t:param posicao: posição do ponto em relação ao segmento (início ou fim)\n",
        "\t:param numSegmento: número do segmento ao qual o ponto pertence\"\"\"\n",
        "\tdef __init__(self, ponto, posicao, numSegmento):\n",
        "\t\tself.ponto = ponto\n",
        "\t\tself.posicao = posicao\n",
        "\t\tself.numSegmento = numSegmento\n",
        "\n",
        "class No:\n",
        "\t\"\"\"Representa um nó de uma árvore binária balanceada\n",
        "\t:param data: dado armazenado no nó\n",
        "\t:param esquerda: filho esquerdo\n",
        "\t:param direita: filho direito\"\"\"\n",
        "\tdef __init__(self, data):\n",
        "\t\tself.data = data\n",
        "\t\tself.setaFilhos(None, None)\n",
        "\n",
        "\tdef setaFilhos(self, esquerda, direita):\n",
        "\t\tself.esquerda = esquerda\n",
        "\t\tself.direita = direita\n",
        "\n",
        "\tdef balanco(self):\n",
        "\t\tprof_esq = 0\n",
        "\t\tif self.esquerda:\n",
        "\t\t\tprof_esq = self.esquerda.profundidade()\n",
        "\t\tprof_dir = 0\n",
        "\t\tif self.direita:\n",
        "\t\t\tprof_dir = self.direita.profundidade()\n",
        "\t\treturn prof_esq - prof_dir\n",
        "\n",
        "\tdef profundidade(self):\n",
        "\t\tprof_esq = 0\n",
        "\t\tif self.esquerda:\n",
        "\t\t\tprof_esq = self.esquerda.profundidade()\n",
        "\t\tprof_dir = 0\n",
        "\t\tif self.direita:\n",
        "\t\t\tprof_dir = self.direita.profundidade()\n",
        "\t\treturn 1 + max(prof_esq, prof_dir)\n",
        "\n",
        "\tdef rotacaoEsquerda(self):\n",
        "\t\tself.data, self.direita.data = self.direita.data, self.data\n",
        "\t\told_esquerda = self.esquerda\n",
        "\t\tself.setaFilhos(self.direita, self.direita.direita)\n",
        "\t\tself.esquerda.setaFilhos(old_esquerda, self.esquerda.esquerda)\n",
        "\n",
        "\tdef rotacaoDireita(self):\n",
        "\t\tself.data, self.esquerda.data = self.esquerda.data, self.data\n",
        "\t\told_direita = self.direita\n",
        "\t\tself.setaFilhos(self.esquerda.esquerda, self.esquerda)\n",
        "\t\tself.direita.setaFilhos(self.direita.direita, old_direita)\n",
        "\n",
        "\tdef rotacaoEsquerdaDireita(self):\n",
        "\t\tself.esquerda.rotacaoEsquerda()\n",
        "\t\tself.rotacaoDireita()\n",
        "\n",
        "\tdef rotacaoDireitaEsquerda(self):\n",
        "\t\tself.direita.rotacaoDireita()\n",
        "\t\tself.rotacaoEsquerda()\n",
        "\n",
        "\tdef executaBalanco(self):\n",
        "\t\tbal = self.balanco()\n",
        "\t\tif bal > 1:\n",
        "\t\t\tif self.esquerda.balanco() > 0:\n",
        "\t\t\t\tself.rotacaoDireita()\n",
        "\t\t\telse:\n",
        "\t\t\t\tself.rotacaoEsquerdaDireita()\n",
        "\t\telif bal < -1:\n",
        "\t\t\tif self.direita.balanco() < 0:\n",
        "\t\t\t\tself.rotacaoEsquerda()\n",
        "\t\t\telse:\n",
        "\t\t\t\tself.rotacaoDireitaEsquerda()\n",
        "\n",
        "\tdef insere(self, data, func):\n",
        "\t\t\"\"\"Insere um nó na árvore binária de busca com base em uma função do tipo (data, data) -> bool\"\"\"\n",
        "\t\tif func(data, self.data):\n",
        "\t\t\tif not self.esquerda:\n",
        "\t\t\t\tself.esquerda = No(data)\n",
        "\t\t\telse:\n",
        "\t\t\t\tself.esquerda.insere(data, func)\n",
        "\t\telse:\n",
        "\t\t\tif not self.direita:\n",
        "\t\t\t\tself.direita = No(data)\n",
        "\t\t\telse:\n",
        "\t\t\t\tself.direita.insere(data, func)\n",
        "\t\tself.executaBalanco()\n",
        "\n",
        "\tdef remove(self, data, func):\n",
        "\t\t\"\"\"Remove um nó da árvore binária de busca com base em uma função do tipo (data, data) -> bool\"\"\"\n",
        "\t\tif self.data == data:\n",
        "\t\t\tif self.esquerda:\n",
        "\t\t\t\tself.data = self.esquerda.maximo()\n",
        "\t\t\t\tself.esquerda.remove(self.data, func)\n",
        "\t\t\telif self.direita:\n",
        "\t\t\t\tself.data = self.direita.minimo()\n",
        "\t\t\t\tself.direita.remove(self.data, func)\n",
        "\t\t\telse:\n",
        "\t\t\t\tself.data = None\n",
        "\t\telif self.esquerda and func(data, self.data):\n",
        "\t\t\tself.esquerda.remove(data, func)\n",
        "\t\telif self.direita and not func(data, self.data):\n",
        "\t\t\tself.direita.remove(data, func)\n",
        "\t\tself.executaBalanco()\n",
        "\n",
        "\tdef acima(self, ponto):\n",
        "\t\tif self.data.ponto[1] <= ponto[1]:\n",
        "\t\t\treturn self.data\n",
        "\t\telse:\n",
        "\t\t\tif self.esquerda:\n",
        "\t\t\t\treturn self.esquerda.acima(ponto)\n",
        "\t\t\telse:\n",
        "\t\t\t\treturn None\n",
        "\n",
        "\tdef abaixo(self, ponto):\n",
        "\t\tif self.data.ponto[1] >= ponto[1]:\n",
        "\t\t\treturn self.data\n",
        "\t\telse:\n",
        "\t\t\tif self.direita:\n",
        "\t\t\t\treturn self.direita.abaixo(ponto)\n",
        "\t\t\telse:\n",
        "\t\t\t\treturn None"
      ],
      "metadata": {
        "id": "m6B68uAp9S6X"
      },
      "execution_count": 443,
      "outputs": []
    },
    {
      "cell_type": "markdown",
      "source": [
        "Antes de realizar a varredura, é necessário perparar os dados. Note que as envoltórias são retornadas do `Algoritmo de Graham` na forma de lista de pontos, enquanto a função `varreduraLinear` espera uma lista de segmentos (pares de pontos). Portanto, é necessário converter as listas de pontos das duas envoltórias em uma única lista de segmentos.\n",
        "\n",
        "A função `preparaSegmentos` recebe as duas listas de pontos das envoltórias e retorna a lista de segmentos pronta para a varredura linear."
      ],
      "metadata": {
        "id": "vL6BlN7e8IWv"
      }
    },
    {
      "cell_type": "code",
      "source": [
        "def preparaSegmentos(envoltoria1, envoltoria2):\n",
        "\t\"\"\"Formata as envoltórias para a varredura linear\"\"\"\n",
        "\tsegmentos1 = [(envoltoria1[i], envoltoria1[(i+1)%len(envoltoria1)]) for i in range(len(envoltoria1))]\n",
        "\tsegmentos2 = [(envoltoria2[i], envoltoria2[(i+1)%len(envoltoria2)]) for i in range(len(envoltoria2))]\n",
        "\n",
        "\tsegmentosVarredura = segmentos1 + segmentos2\n",
        "\treturn segmentosVarredura"
      ],
      "metadata": {
        "id": "ZIXBwfuzvWTd"
      },
      "execution_count": 444,
      "outputs": []
    },
    {
      "cell_type": "markdown",
      "source": [
        ">**Descrição do algoritmo:**\n",
        "1. Criar a lista de pontos com as extremidades dos segmentos.\n",
        "2. Ordenar a lista pelas coordenadas `x` dos pontos e, em caso dê empate, colocar uma extremidade esquerda de um segmento antes da extremidade direita de outro.\n",
        "3. Criar árvore binária com o primeiro ponto da lista.\n",
        "4. Para cada segmento da lista:\n",
        "\t1. Se for uma extremidade esquerda, insere na árvore e verifica interseção do segmento com os segmentos logo acima e logo abaixo.\n",
        "\t2. Se for uma extremidade direita, verifica interseção entre os segmentos logo acima e logo abaixo do segmento e remove o segmento\n",
        "5. Se em alguma verificação houver segmento, retorna `True`. Se percorrer todo o vetor e não houverem interseções, retorna `False`."
      ],
      "metadata": {
        "id": "gWLDVCQE7iJr"
      }
    },
    {
      "cell_type": "code",
      "source": [
        "def varreduraLinear(segmentos):\n",
        "\t\"\"\"Verifica se há interseção entre segmentos em tempo O(n log n)\n",
        "\t:param segmentos: lista de segmentos de linha\n",
        "\t:return: True se há interseção, False caso contrário\"\"\"\n",
        "\tpontosVarredura = []\n",
        "\tfor i in range(len(segmentos)):\n",
        "\t\tpontosVarredura.append(EndPoint(segmentos[i][0], esquerda, i))\n",
        "\t\tpontosVarredura.append(EndPoint(segmentos[i][1], direita, i))\n",
        "\n",
        "\t# \t# produz uma perturbação por causa de possíveis pontos de varredura com x e y repetido\n",
        "\t# for i in range(len(pontosVarredura)):\n",
        "\t# \tpontosVarredura[i].ponto = (pontosVarredura[i].ponto[0], pontosVarredura[i].ponto[1] + i*0.0000001)\n",
        "\n",
        "\t# ordena os pontos de varredura por x e pelo endpoint da esquerda em caso de empate\n",
        "\tpontosVarredura.sort(key=lambda endPoint: (endPoint.ponto[0], endPoint.posicao))\n",
        "\n",
        "\t# árvore binária de busca\n",
        "\tarvore = No(pontosVarredura[0])\n",
        "\n",
        "\t# varre os pontos de varredura\n",
        "\tfor endpoint in pontosVarredura:\n",
        "\t\tcima = arvore.acima(endpoint.ponto)\n",
        "\t\tbaixo = arvore.abaixo(endpoint.ponto)\n",
        "\n",
        "\t\tif endpoint.posicao == esquerda:\n",
        "\t\t\tarvore.insere(endpoint, lambda a, b: a.ponto[1] <= b.ponto[1])\n",
        "\n",
        "\t\t\tif cima != None and \\\n",
        "\t\t\tsegmentosInterceptam(segmentos[cima.numSegmento], segmentos[endpoint.numSegmento]):\n",
        "\t\t\t\treturn True\n",
        "\t\t\telif baixo != None and \\\n",
        "\t\t\tsegmentosInterceptam(segmentos[baixo.numSegmento], segmentos[endpoint.numSegmento]):\n",
        "\t\t\t\treturn True\n",
        "\n",
        "\t\tif endpoint.posicao == direita:\n",
        "\t\t\tif cima != None and baixo != None:\n",
        "\t\t\t\tif segmentosInterceptam(segmentos[cima.numSegmento], segmentos[baixo.numSegmento]):\n",
        "\t\t\t\t\treturn True\n",
        "\t\t\tarvore.remove(endpoint, lambda a, b: a.ponto[1] <= b.ponto[1])\n",
        "\treturn False"
      ],
      "metadata": {
        "id": "X_x7lq499s45"
      },
      "execution_count": 445,
      "outputs": []
    },
    {
      "cell_type": "markdown",
      "source": [
        "**Visualizando as envoltórias e definindo a sobreposição.**\n",
        "\n",
        "Utilizando as funções auxiliares da Seção 1, vamos criar duas nuvens de pontos e verificar se há sobreposição entre seus contornos (envoltórias).\n",
        "\n",
        "Execute quantas vezes precisar, há chances dos conjuntos se sobreporem ou não a cada execução."
      ],
      "metadata": {
        "id": "VfXj1zvD8TtO"
      }
    },
    {
      "cell_type": "code",
      "source": [
        "p1 = geraPontos(200, (80,100))\n",
        "env1 = envoltoriaConvexa(p1)\n",
        "desenhaEnvoltoria(env1, p1)\n",
        "\n",
        "p2 = geraPontos(200, (25,75))\n",
        "env2 = envoltoriaConvexa(p2)\n",
        "desenhaEnvoltoria(env2, p2)\n",
        "\n",
        "plt.show()\n",
        "\n",
        "segmentosVarredura = preparaSegmentos(env1, env2)\n",
        "\n",
        "intersecao = varreduraLinear(segmentosVarredura)\n",
        "\n",
        "if intersecao:\n",
        "    print(\"As envoltórias convexas se intersectam.\")\n",
        "else:\n",
        "    print(\"As envoltórias convexas não se intersectam.\")"
      ],
      "metadata": {
        "colab": {
          "base_uri": "https://localhost:8080/",
          "height": 448
        },
        "id": "QNONoKSRvslf",
        "outputId": "c49a9f89-ed9d-4d34-c17b-fd0fd874318f"
      },
      "execution_count": 446,
      "outputs": [
        {
          "output_type": "display_data",
          "data": {
            "text/plain": [
              "<Figure size 640x480 with 1 Axes>"
            ],
            "image/png": "[encoded data removed]"
          },
          "metadata": {}
        },
        {
          "output_type": "stream",
          "name": "stdout",
          "text": [
            "As envoltórias convexas não se intersectam.\n"
          ]
        }
      ]
    },
    {
      "cell_type": "markdown",
      "source": [
        "# 4. Modelo de Classificação"
      ],
      "metadata": {
        "id": "XFjMc1mR4hT-"
      }
    },
    {
      "cell_type": "markdown",
      "source": [
        "Com as duas envoltórias em mãos e o conhecimento de elas não têm sobreposição, podemos definir o `modelo de classificação linear`."
      ],
      "metadata": {
        "id": "S8QAw4ZN9xv5"
      }
    },
    {
      "cell_type": "markdown",
      "source": [
        "Isto será feito ao encontrarmos uma linha (ou melhor, a equação de uma linha) que separe ambos os conjuntos.\n",
        "\n",
        ">**Descrição do algoritmo:**\n",
        "> 1. Encontrando os pontos mais próximos de cada envoltória\n",
        "> 2. Encontrar o ponto médio na reta que liga estes dois pontos, onde a reta passará.\n",
        "> 3. Encontrar a reta de separação dos conjuntos, que deverá ser tangente à reta que liga os pontos mais próximos e passar através do ponto médio."
      ],
      "metadata": {
        "id": "lwilRARFdRsk"
      }
    },
    {
      "cell_type": "markdown",
      "source": [
        "Primeiro precisamos **encontrar os pontos mais próximos de cada envoltória**, ou seja, o par de pontos que têm a menor distância e que sejam de contornos diferentes.\n",
        "\n",
        "`Uma abordagem quadrática foi tomada`, comparando todos os pares possíveis de pontos. Apesar de outras técnicas terem sido consideradas, como bibliotecas de python que usariam o algoritmo mais eficiente de Gilbert-Johnson-Keerthi (que usaria simplex), ou uma possível alteração do algoritmo da seção 22.4 do livro Algorithm Design and Applications (por Goodrich e Tamassia, de 2015), os alunos julgaram que seria o mais rápido de se implementar."
      ],
      "metadata": {
        "id": "7qdaj_it-beg"
      }
    },
    {
      "cell_type": "code",
      "source": [
        "def pontos_mais_proximos(envoltoria1, envoltoria2):\n",
        "  \"\"\"Encontra os pontos mais próximos entre dois polígonos convexos.\"\"\"\n",
        "\n",
        "  distancia_minima = np.inf\n",
        "  pontos_mais_proximos = None\n",
        "\n",
        "  for i in range(len(envoltoria1)):\n",
        "    for j in range(len(envoltoria2)):\n",
        "      distancia = np.linalg.norm(np.array(envoltoria1[i]) - np.array(envoltoria2[j]))\n",
        "      if distancia < distancia_minima:\n",
        "        distancia_minima = distancia\n",
        "        pontos_mais_proximos = (envoltoria1[i], envoltoria2[j])\n",
        "\n",
        "  return pontos_mais_proximos"
      ],
      "metadata": {
        "id": "F9o9IZStImLm"
      },
      "execution_count": 447,
      "outputs": []
    },
    {
      "cell_type": "markdown",
      "source": [
        "Em seguida **calculamos o ponto médio entre esses pontos**. Neste caso a divisão é inevitável."
      ],
      "metadata": {
        "id": "DiULZDzlBGOT"
      }
    },
    {
      "cell_type": "code",
      "source": [
        "def calcula_ponto_medio(ponto1, ponto2):\n",
        "  \"\"\"Calcula o ponto médio entre dois pontos\"\"\"\n",
        "  return ((ponto1[0] + ponto2[0]) / 2, (ponto1[1] + ponto2[1] ) / 2)"
      ],
      "metadata": {
        "id": "om1nZLxAqBuj"
      },
      "execution_count": 448,
      "outputs": []
    },
    {
      "cell_type": "markdown",
      "source": [
        "Por fim, usamos a informação dos pontos mais próximos e do ponto médio para **encontrar a reta que é tangente à reta entre os pontos**, e que passe pelo ponto médio delas.\n",
        "\n",
        "**Lembremos da equação de uma reta:** $(a*x + b)$, onde $a$ é a inclinação e $b$ é o coeficiente linear."
      ],
      "metadata": {
        "id": "9FgyXZ-gB6YE"
      }
    },
    {
      "cell_type": "code",
      "source": [
        "def linha_classificadora(envoltoria1, envoltoria2):\n",
        "  \"\"\"Calcula um modelo classificador entre duas envoltórias.\n",
        "  Retorna: Equação da reta (inclinacao, b) que separa as envoltórias\n",
        "  \"\"\"\n",
        "  # O caso em que os pontos sejam iguais não é tratado aqui\n",
        "\n",
        "  ponto1, ponto2 = pontos_mais_proximos(envoltoria1, envoltoria2)\n",
        "\n",
        "  dx = ponto2[0] - ponto1[0]\n",
        "  dy = ponto2[1] - ponto1[1]\n",
        "\n",
        "  ponto_medio = calcula_ponto_medio(ponto1, ponto2)\n",
        "\n",
        "  if dx == 0:\n",
        "    # A reta é vertical, então a tangente é horizontal\n",
        "    inclinacao = 0\n",
        "    b = ponto_medio[0]  # O valor de 'b' é a coordenada x do ponto médio\n",
        "  else:\n",
        "    inclinacao = dy / dx\n",
        "    # calcula a inclinação e equação da reta tangente que passa sobre o ponto medio\n",
        "    if inclinacao == 0:\n",
        "      inclinacao += 0.0001\n",
        "    inclinacao_tangente = -1 / inclinacao\n",
        "    b_tangente = ponto_medio[1] - inclinacao_tangente * ponto_medio[0]\n",
        "\n",
        "  return (inclinacao_tangente, b_tangente)"
      ],
      "metadata": {
        "id": "xpRt09VjqD98"
      },
      "execution_count": 449,
      "outputs": []
    },
    {
      "cell_type": "markdown",
      "source": [
        "**Visualizando os resultados.**\n",
        "Aqui vamos encontrar os pontos mais próximos, o ponto médio e a equação da reta tangente que desejamos.\n",
        "\n",
        "Note que as envoltórias são aleatórias, e podem não ser separáveis. Por favor continue re-executando até que um resultado separável ocorra."
      ],
      "metadata": {
        "id": "tjDGplsIngB4"
      }
    },
    {
      "cell_type": "code",
      "source": [
        "# Gera dois conjuntos de dados e verifica a separabilidade\n",
        "env1 = envoltoriaConvexa(geraPontos(200, (80,100)))\n",
        "env2 = envoltoriaConvexa(geraPontos(200, (25,75)))\n",
        "intersecta = varreduraLinear(preparaSegmentos(env1,env2))\n",
        "\n",
        "pontos = pontos_mais_proximos(env1, env2)\n",
        "ponto_medio = calcula_ponto_medio(pontos[0], pontos[1])\n",
        "linha = linha_classificadora(env1, env2)\n",
        "\n",
        "# Plot dos pontos mais próximos e do ponto médio\n",
        "plt.scatter(*zip(*pontos), s=50, c='red')\n",
        "plt.scatter(*ponto_medio, s=50, c='black')\n",
        "plt.plot([pontos[0][0], pontos[1][0]], [pontos[0][1], pontos[1][1]], c='red')\n",
        "\n",
        "# Plot da reta tangente passando pelo ponto médio\n",
        "plt.plot([-100, 100], [linha[0] * -100 + linha[1], linha[0] * 100 + linha[1]], c='black')\n",
        "\n",
        "# Restante do código para plotar as envoltórias\n",
        "desenhaEnvoltoria(env1)\n",
        "desenhaEnvoltoria(env2)\n",
        "\n",
        "plt.show()\n",
        "if not intersecta:\n",
        "  print(\"As envoltórias convexas se intersectam.\")"
      ],
      "metadata": {
        "colab": {
          "base_uri": "https://localhost:8080/",
          "height": 448
        },
        "id": "BK61rTh_NVx9",
        "outputId": "970a1961-92f7-4bbe-9174-77d187f716db"
      },
      "execution_count": 450,
      "outputs": [
        {
          "output_type": "display_data",
          "data": {
            "text/plain": [
              "<Figure size 640x480 with 1 Axes>"
            ],
            "image/png": "[encoded data removed]"
          },
          "metadata": {}
        },
        {
          "output_type": "stream",
          "name": "stdout",
          "text": [
            "As envoltórias convexas se intersectam.\n"
          ]
        }
      ]
    },
    {
      "cell_type": "markdown",
      "source": [
        "# 5. Classificador e Produtor de Métricas"
      ],
      "metadata": {
        "id": "AUtGdxW5DkzS"
      }
    },
    {
      "cell_type": "markdown",
      "source": [
        "Com as ferramentas apresentadas em mãos, a `envoltória` a `varredura` e o `modelo classificador`, iremos agora criar uma interface para aplicar estes algoritmos a qualquer conjunto de dados."
      ],
      "metadata": {
        "id": "JEIH8LgaX6-D"
      }
    },
    {
      "cell_type": "markdown",
      "source": [
        "A interface escolhida será na forma de uma clase `Classificador`, que será criada a partir de duas bases de dados e irá automaticamente:\n",
        "- Dividir os dados em conjuntos treinamento/teste\n",
        "- Produzir o modelo de classificação linear\n",
        "- Calcular as métricas de precisão para o conjunto de teste"
      ],
      "metadata": {
        "id": "UH-1B-vEfBIC"
      }
    },
    {
      "cell_type": "code",
      "source": [
        "import numpy as np\n",
        "from sklearn.model_selection import train_test_split\n",
        "\n",
        "class Classificador:\n",
        "    def __init__(self, classe1, classe2, label1, label2, test_size=0.2, random_state=None, rodar_automaticamente=True):\n",
        "        self.classe1 = classe1\n",
        "        self.classe2 = classe2\n",
        "        self.label1 = label1\n",
        "        self.label2 = label2\n",
        "        self.centroide_classe1 = None\n",
        "        self.centroide_classe2 = None\n",
        "        self.treino_classe1 = None\n",
        "        self.teste_classe1 = None\n",
        "        self.treino_classe2 = None\n",
        "        self.teste_classe2 = None\n",
        "        self.reta_perpendicular = None\n",
        "        self.intersecao = False\n",
        "\n",
        "        if rodar_automaticamente:\n",
        "\n",
        "            # Separar conjuntos de treino e teste\n",
        "            self.separar_treino_teste(test_size, random_state)\n",
        "\n",
        "            # Treinar com os conjuntos de treino\n",
        "            self.treinar()\n",
        "\n",
        "            if self.intersecao:\n",
        "              print(\"Os dados de treinamento de\", self.label1, \"e\", self.label2, \"não são separáveis\")\n",
        "            else:\n",
        "              # Mostra o gráfico\n",
        "              self.desenha_grafico()\n",
        "\n",
        "    def setar_treino_teste(self, treino_classe1, teste_classe1, treino_classe2, teste_classe2):\n",
        "      self.treino_classe1 = treino_classe1\n",
        "      self.teste_classe1 = teste_classe1\n",
        "      self.treino_classe2 = treino_classe2\n",
        "      self.teste_classe2 = teste_classe2\n",
        "\n",
        "    def separar_treino_teste(self, test_size=0.3, random_state=None):\n",
        "        self.treino_classe1, self.teste_classe1 = train_test_split(self.classe1, test_size=test_size, random_state=random_state)\n",
        "        self.treino_classe2, self.teste_classe2 = train_test_split(self.classe2, test_size=test_size, random_state=random_state)\n",
        "\n",
        "    def treinar(self):\n",
        "        envoltoria1 = envoltoriaConvexa(self.treino_classe1)\n",
        "        envoltoria2 = envoltoriaConvexa(self.treino_classe2)\n",
        "\n",
        "        self.intersecao = varreduraLinear(preparaSegmentos(envoltoria1, envoltoria2))\n",
        "\n",
        "        self.centroide_classe1 = np.mean(envoltoria1, axis=0)\n",
        "        self.centroide_classe2 = np.mean(envoltoria2, axis=0)\n",
        "\n",
        "        self.linha_classificadora = linha_classificadora(envoltoria1, envoltoria2)\n",
        "\n",
        "    def classificar(self, ponto):\n",
        "        if self.centroide_classe1 is None or self.centroide_classe2 is None or self.linha_classificadora is None:\n",
        "            raise ValueError(\"Os centroides ou a linha classificadora ainda não foram calculados. Execute treinar() primeiro.\")\n",
        "\n",
        "        inclinacao_tangente, b_tangente = self.linha_classificadora\n",
        "\n",
        "        # Calcular o valor da reta no ponto dado\n",
        "        valor_da_reta = ponto[1] - (inclinacao_tangente * ponto[0] + b_tangente)\n",
        "\n",
        "        # Comparar as alturas dos centroides\n",
        "        altura_centroide_classe1 = self.centroide_classe1[1]\n",
        "        altura_centroide_classe2 = self.centroide_classe2[1]\n",
        "\n",
        "        if altura_centroide_classe1 > altura_centroide_classe2:\n",
        "            return self.label1 if valor_da_reta > 0 else self.label2\n",
        "        else:\n",
        "            return self.label2 if valor_da_reta > 0 else self.label1\n",
        "\n",
        "    def desenha_grafico(self):\n",
        "        # Calcule as envoltórias convexas\n",
        "        env1 = envoltoriaConvexa(self.treino_classe1)\n",
        "        env2 = envoltoriaConvexa(self.treino_classe2)\n",
        "\n",
        "        # Desenhe as envoltórias convexas\n",
        "        desenhaEnvoltoria(env1)\n",
        "        desenhaEnvoltoria(env2)\n",
        "\n",
        "        # Desenhe os conjuntos de pontos\n",
        "        desenha_pontos(self.classe1,self.classe2,self.label1, self.label2)\n",
        "\n",
        "        if not self.intersecao:\n",
        "          # Desenha a linha classificadora apenas caso os dados sejam separáveis\n",
        "          original_xlim = plt.gca().get_xlim()\n",
        "          original_ylim = plt.gca().get_ylim()\n",
        "\n",
        "          pontos = pontos_mais_proximos(env1, env2)\n",
        "          ponto_medio = calcula_ponto_medio(pontos[0], pontos[1])\n",
        "          linha = linha_classificadora(env1, env2)\n",
        "\n",
        "          plt.scatter(*zip(*pontos), s=50, c='black')\n",
        "          plt.scatter(*ponto_medio, s=50, c='black')\n",
        "          plt.plot([pontos[0][0], pontos[1][0]], [pontos[0][1], pontos[1][1]], c='red')\n",
        "          plt.plot([pontos[0][0]-100, pontos[1][0]+100], [linha[0] * (pontos[0][0]-100) + linha[1], linha[0] * (pontos[1][0]+100) + linha[1]], c='black')\n",
        "\n",
        "          plt.xlim(original_xlim)\n",
        "          plt.ylim(original_ylim)\n",
        "\n",
        "        plt.xlabel('Componente 1')\n",
        "        plt.ylabel('Componente 2')\n",
        "        plt.title('Iris dataset com 2 componentes')\n",
        "\n",
        "        plt.show()\n",
        "\n",
        "    def exibir_metricas(self):\n",
        "        if self.intersecao:\n",
        "          print(\"Não há como realizar métricas pois os dados de treinamento das classes\", self.label1, \"e\", self.label2, \"não são separáveis\")\n",
        "          print(\"\")\n",
        "          return\n",
        "\n",
        "        acertos_treino = 0\n",
        "        erros_treino = 0\n",
        "        acertos_teste = 0\n",
        "        erros_teste = 0\n",
        "\n",
        "        if self.treino_classe1 is not None and self.treino_classe2 is not None:\n",
        "            for ponto in self.treino_classe1:\n",
        "                if self.classificar(ponto) == self.label1:\n",
        "                    acertos_treino += 1\n",
        "                else:\n",
        "                    erros_treino += 1\n",
        "            for ponto in self.treino_classe2:\n",
        "                if self.classificar(ponto) == self.label2:\n",
        "                    acertos_treino += 1\n",
        "                else:\n",
        "                    erros_treino += 1\n",
        "\n",
        "        if self.teste_classe1 is not None and self.teste_classe2 is not None:\n",
        "            for ponto in self.teste_classe1:\n",
        "                if self.classificar(ponto) == self.label1:\n",
        "                    acertos_teste += 1\n",
        "                else:\n",
        "                    erros_teste += 1\n",
        "            for ponto in self.teste_classe2:\n",
        "                if self.classificar(ponto) == self.label2:\n",
        "                    acertos_teste += 1\n",
        "                else:\n",
        "                    erros_teste += 1\n",
        "\n",
        "        total_acertos = acertos_treino + acertos_teste\n",
        "        total_erros = erros_treino + erros_teste\n",
        "\n",
        "        # Calcular os verdadeiros positivos, falsos positivos e falsos negativos\n",
        "        verdadeiros_positivos = acertos_teste\n",
        "        falsos_positivos = erros_teste  # Supondo que tudo o que foi classificado como classe 2 e era classe 1 seja um falso positivo\n",
        "        falsos_negativos = erros_treino  # Supondo que tudo o que não foi classificado como classe 2 e era classe 1 seja um falso negativo\n",
        "\n",
        "        # Calcular precisão e revocação\n",
        "        precisao = verdadeiros_positivos / (verdadeiros_positivos + falsos_positivos)\n",
        "        revocacao = verdadeiros_positivos / (verdadeiros_positivos + falsos_negativos)\n",
        "\n",
        "        indice_acerto = total_acertos / (total_acertos + total_erros) * 100\n",
        "\n",
        "        print(\"Para a classificação entre\", self.label1, \"e\", self.label2, \"temos que:\")\n",
        "\n",
        "        print(\"Se interceptam:\", self.intersecao)\n",
        "\n",
        "        print(\"Porcentagem de acertos (treino):\", (acertos_treino / (acertos_treino + erros_treino)) * 100)\n",
        "        print(\"Porcentagem de erros (treino):\", (erros_treino / (acertos_treino + erros_treino)) * 100)\n",
        "        print(\"Porcentagem de acertos (teste):\", (acertos_teste / (acertos_teste + erros_teste)) * 100)\n",
        "        print(\"Porcentagem de erros (teste):\", (erros_teste / (acertos_teste + erros_teste)) * 100)\n",
        "        print(\"Índice de acerto:\", indice_acerto, \"%\")\n",
        "        print(\"Precisão:\", precisao)\n",
        "        print(\"Revocação:\", revocacao)\n",
        "        print(\"\")"
      ],
      "metadata": {
        "id": "FGIboh7boqH0"
      },
      "execution_count": 451,
      "outputs": []
    },
    {
      "cell_type": "markdown",
      "source": [
        "**Visualizando os resultados.**\n",
        "\n",
        "Note que as envoltórias são aleatórias, e podem não ser separáveis. Por favor continue re-executando até que um resultado separável ocorra."
      ],
      "metadata": {
        "id": "c1aq6TdVfFdW"
      }
    },
    {
      "cell_type": "code",
      "source": [
        "# Gera dois conjuntos de dados e verifica a separabilidade\n",
        "env1 = envoltoriaConvexa(geraPontos(200, (80,100)))\n",
        "env2 = envoltoriaConvexa(geraPontos(200, (25,75)))"
      ],
      "metadata": {
        "id": "dUQ4hp7mbpmA"
      },
      "execution_count": null,
      "outputs": []
    },
    {
      "cell_type": "code",
      "source": [
        "Classificador(env1,env2,\"classe1\",\"classe2\")"
      ],
      "metadata": {
        "id": "rMkl703rfp-X",
        "colab": {
          "base_uri": "https://localhost:8080/",
          "height": 783
        },
        "outputId": "a08375b6-525c-430e-ea46-d7f12b4d5fea"
      },
      "execution_count": 460,
      "outputs": [
        {
          "output_type": "error",
          "ename": "TypeError",
          "evalue": "ignored",
          "traceback": [
            "\u001b[0;31m---------------------------------------------------------------------------\u001b[0m",
            "\u001b[0;31mTypeError\u001b[0m                                 Traceback (most recent call last)",
            "\u001b[0;32m<ipython-input-460-4b8e4cca78fe>\u001b[0m in \u001b[0;36m<cell line: 5>\u001b[0;34m()\u001b[0m\n\u001b[1;32m      3\u001b[0m \u001b[0menv2\u001b[0m \u001b[0;34m=\u001b[0m \u001b[0menvoltoriaConvexa\u001b[0m\u001b[0;34m(\u001b[0m\u001b[0mgeraPontos\u001b[0m\u001b[0;34m(\u001b[0m\u001b[0;36m200\u001b[0m\u001b[0;34m,\u001b[0m \u001b[0;34m(\u001b[0m\u001b[0;36m25\u001b[0m\u001b[0;34m,\u001b[0m\u001b[0;36m75\u001b[0m\u001b[0;34m)\u001b[0m\u001b[0;34m)\u001b[0m\u001b[0;34m)\u001b[0m\u001b[0;34m\u001b[0m\u001b[0;34m\u001b[0m\u001b[0m\n\u001b[1;32m      4\u001b[0m \u001b[0;34m\u001b[0m\u001b[0m\n\u001b[0;32m----> 5\u001b[0;31m \u001b[0mClassificador\u001b[0m\u001b[0;34m(\u001b[0m\u001b[0menv1\u001b[0m\u001b[0;34m,\u001b[0m\u001b[0menv2\u001b[0m\u001b[0;34m,\u001b[0m\u001b[0;34m\"classe1\"\u001b[0m\u001b[0;34m,\u001b[0m\u001b[0;34m\"classe2\"\u001b[0m\u001b[0;34m)\u001b[0m\u001b[0;34m\u001b[0m\u001b[0;34m\u001b[0m\u001b[0m\n\u001b[0m",
            "\u001b[0;32m<ipython-input-451-c2a579ca4e5f>\u001b[0m in \u001b[0;36m__init__\u001b[0;34m(self, classe1, classe2, label1, label2, test_size, random_state, rodar_automaticamente)\u001b[0m\n\u001b[1;32m     29\u001b[0m             \u001b[0;32melse\u001b[0m\u001b[0;34m:\u001b[0m\u001b[0;34m\u001b[0m\u001b[0;34m\u001b[0m\u001b[0m\n\u001b[1;32m     30\u001b[0m               \u001b[0;31m# Mostra o gráfico\u001b[0m\u001b[0;34m\u001b[0m\u001b[0;34m\u001b[0m\u001b[0m\n\u001b[0;32m---> 31\u001b[0;31m               \u001b[0mself\u001b[0m\u001b[0;34m.\u001b[0m\u001b[0mdesenha_grafico\u001b[0m\u001b[0;34m(\u001b[0m\u001b[0;34m)\u001b[0m\u001b[0;34m\u001b[0m\u001b[0;34m\u001b[0m\u001b[0m\n\u001b[0m\u001b[1;32m     32\u001b[0m \u001b[0;34m\u001b[0m\u001b[0m\n\u001b[1;32m     33\u001b[0m     \u001b[0;32mdef\u001b[0m \u001b[0msetar_treino_teste\u001b[0m\u001b[0;34m(\u001b[0m\u001b[0mself\u001b[0m\u001b[0;34m,\u001b[0m \u001b[0mtreino_classe1\u001b[0m\u001b[0;34m,\u001b[0m \u001b[0mteste_classe1\u001b[0m\u001b[0;34m,\u001b[0m \u001b[0mtreino_classe2\u001b[0m\u001b[0;34m,\u001b[0m \u001b[0mteste_classe2\u001b[0m\u001b[0;34m)\u001b[0m\u001b[0;34m:\u001b[0m\u001b[0;34m\u001b[0m\u001b[0;34m\u001b[0m\u001b[0m\n",
            "\u001b[0;32m<ipython-input-451-c2a579ca4e5f>\u001b[0m in \u001b[0;36mdesenha_grafico\u001b[0;34m(self)\u001b[0m\n\u001b[1;32m     80\u001b[0m \u001b[0;34m\u001b[0m\u001b[0m\n\u001b[1;32m     81\u001b[0m         \u001b[0;31m# Desenhe os conjuntos de pontos\u001b[0m\u001b[0;34m\u001b[0m\u001b[0;34m\u001b[0m\u001b[0m\n\u001b[0;32m---> 82\u001b[0;31m         \u001b[0mdesenha_pontos\u001b[0m\u001b[0;34m(\u001b[0m\u001b[0mself\u001b[0m\u001b[0;34m.\u001b[0m\u001b[0mclasse1\u001b[0m\u001b[0;34m,\u001b[0m\u001b[0mself\u001b[0m\u001b[0;34m.\u001b[0m\u001b[0mclasse2\u001b[0m\u001b[0;34m,\u001b[0m\u001b[0mself\u001b[0m\u001b[0;34m.\u001b[0m\u001b[0mlabel1\u001b[0m\u001b[0;34m,\u001b[0m \u001b[0mself\u001b[0m\u001b[0;34m.\u001b[0m\u001b[0mlabel2\u001b[0m\u001b[0;34m)\u001b[0m\u001b[0;34m\u001b[0m\u001b[0;34m\u001b[0m\u001b[0m\n\u001b[0m\u001b[1;32m     83\u001b[0m \u001b[0;34m\u001b[0m\u001b[0m\n\u001b[1;32m     84\u001b[0m         \u001b[0;32mif\u001b[0m \u001b[0;32mnot\u001b[0m \u001b[0mself\u001b[0m\u001b[0;34m.\u001b[0m\u001b[0mintersecao\u001b[0m\u001b[0;34m:\u001b[0m\u001b[0;34m\u001b[0m\u001b[0;34m\u001b[0m\u001b[0m\n",
            "\u001b[0;32m<ipython-input-439-b1adc323b11c>\u001b[0m in \u001b[0;36mdesenha_pontos\u001b[0;34m(points_1, points_2, label_1, label_2)\u001b[0m\n\u001b[1;32m      4\u001b[0m \u001b[0;34m\u001b[0m\u001b[0m\n\u001b[1;32m      5\u001b[0m     \u001b[0;31m# Crie um gráfico de dispersão com cores mapeadas para os pontos das duas classes\u001b[0m\u001b[0;34m\u001b[0m\u001b[0;34m\u001b[0m\u001b[0m\n\u001b[0;32m----> 6\u001b[0;31m     \u001b[0mplt\u001b[0m\u001b[0;34m.\u001b[0m\u001b[0mscatter\u001b[0m\u001b[0;34m(\u001b[0m\u001b[0mpoints_1\u001b[0m\u001b[0;34m[\u001b[0m\u001b[0;34m:\u001b[0m\u001b[0;34m,\u001b[0m \u001b[0;36m0\u001b[0m\u001b[0;34m]\u001b[0m\u001b[0;34m,\u001b[0m \u001b[0mpoints_1\u001b[0m\u001b[0;34m[\u001b[0m\u001b[0;34m:\u001b[0m\u001b[0;34m,\u001b[0m \u001b[0;36m1\u001b[0m\u001b[0;34m]\u001b[0m\u001b[0;34m,\u001b[0m \u001b[0mc\u001b[0m\u001b[0;34m=\u001b[0m\u001b[0mcolors\u001b[0m\u001b[0;34m[\u001b[0m\u001b[0;36m0\u001b[0m\u001b[0;34m]\u001b[0m\u001b[0;34m,\u001b[0m \u001b[0mlabel\u001b[0m\u001b[0;34m=\u001b[0m\u001b[0mlabel_1\u001b[0m\u001b[0;34m)\u001b[0m\u001b[0;34m\u001b[0m\u001b[0;34m\u001b[0m\u001b[0m\n\u001b[0m\u001b[1;32m      7\u001b[0m     \u001b[0mplt\u001b[0m\u001b[0;34m.\u001b[0m\u001b[0mscatter\u001b[0m\u001b[0;34m(\u001b[0m\u001b[0mpoints_2\u001b[0m\u001b[0;34m[\u001b[0m\u001b[0;34m:\u001b[0m\u001b[0;34m,\u001b[0m \u001b[0;36m0\u001b[0m\u001b[0;34m]\u001b[0m\u001b[0;34m,\u001b[0m \u001b[0mpoints_2\u001b[0m\u001b[0;34m[\u001b[0m\u001b[0;34m:\u001b[0m\u001b[0;34m,\u001b[0m \u001b[0;36m1\u001b[0m\u001b[0;34m]\u001b[0m\u001b[0;34m,\u001b[0m \u001b[0mc\u001b[0m\u001b[0;34m=\u001b[0m\u001b[0mcolors\u001b[0m\u001b[0;34m[\u001b[0m\u001b[0;36m1\u001b[0m\u001b[0;34m]\u001b[0m\u001b[0;34m,\u001b[0m \u001b[0mlabel\u001b[0m\u001b[0;34m=\u001b[0m\u001b[0mlabel_2\u001b[0m\u001b[0;34m)\u001b[0m\u001b[0;34m\u001b[0m\u001b[0;34m\u001b[0m\u001b[0m\n\u001b[1;32m      8\u001b[0m \u001b[0;34m\u001b[0m\u001b[0m\n",
            "\u001b[0;31mTypeError\u001b[0m: list indices must be integers or slices, not tuple"
          ]
        },
        {
          "output_type": "display_data",
          "data": {
            "text/plain": [
              "<Figure size 640x480 with 1 Axes>"
            ],
            "image/png": "[encoded data removed]"
          },
          "metadata": {}
        }
      ]
    },
    {
      "cell_type": "markdown",
      "source": [
        "# 6. Definição dos datasets"
      ],
      "metadata": {
        "id": "Y0Snp7Ip6fsx"
      }
    },
    {
      "cell_type": "markdown",
      "source": [
        "## Iris Dataset"
      ],
      "metadata": {
        "id": "qmjCafB4m7FF"
      }
    },
    {
      "cell_type": "markdown",
      "source": [
        "O conjunto de dados `Iris` contém informações sobre três espécies de flores Iris, sendo elas: Setosa, Versicolor e Virginica. Para cada espécie, quatro características botânicas são registradas: o comprimento e largura das sépalas e o comprimento e largura das pétalas."
      ],
      "metadata": {
        "id": "sfuTpcLYmtGE"
      }
    },
    {
      "cell_type": "code",
      "source": [
        "from sklearn.datasets import load_iris\n",
        "iris = load_iris()\n",
        "\n",
        "pd.DataFrame(iris.data).head(2)"
      ],
      "metadata": {
        "id": "xf9MAKomuulH"
      },
      "execution_count": null,
      "outputs": []
    },
    {
      "cell_type": "code",
      "source": [
        "from sklearn.decomposition import TruncatedSVD\n",
        "\n",
        "svd = TruncatedSVD(n_components=2)\n",
        "iris_2d = svd.fit_transform(iris.data)\n",
        "\n",
        "setosa_points = iris_2d[iris.target == 0]\n",
        "versicolor_points = iris_2d[iris.target == 1]\n",
        "virginica_points = iris_2d[iris.target == 2]"
      ],
      "metadata": {
        "id": "pu0Jximuqb1N"
      },
      "execution_count": null,
      "outputs": []
    },
    {
      "cell_type": "markdown",
      "source": [
        "## Wine dataset\n",
        "O conjunto de dados `Wine` contém informações sobre três tipos de vinhos. Para cada vinho, temos dadods como teor alcoólico, acidez, intensidade da cor, entre outros. No total são 13 atributos, todos numéricos."
      ],
      "metadata": {
        "id": "YDmV162WCP20"
      }
    },
    {
      "cell_type": "code",
      "source": [
        "from sklearn.datasets import load_wine\n",
        "wine = load_wine()\n",
        "\n",
        "pd.DataFrame(wine.data).head(2)"
      ],
      "metadata": {
        "id": "-AOyM0eBCvO8"
      },
      "execution_count": null,
      "outputs": []
    },
    {
      "cell_type": "code",
      "source": [
        "svd = TruncatedSVD(n_components=2)\n",
        "wine_2d = svd.fit_transform(wine.data)\n",
        "\n",
        "wine_classe0 = wine_2d[wine.target == 0]\n",
        "wine_classe1 = wine_2d[wine.target == 1]\n",
        "wine_classe2 = wine_2d[wine.target == 2]"
      ],
      "metadata": {
        "id": "bXkKHepjC1eI"
      },
      "execution_count": null,
      "outputs": []
    },
    {
      "cell_type": "markdown",
      "source": [
        "# Avaliação das Métricas\n",
        "\n",
        "Por fim, vamos calcular diversas métricas e analisar o resultado."
      ],
      "metadata": {
        "id": "cEG26ctOE9rS"
      }
    },
    {
      "cell_type": "markdown",
      "source": [
        "## Teste 1 - Classes Setosa e Versicolor\n",
        "\n",
        "Os dados das classes Setosa e Versicolor são bem separados, não se sobrepõem.\n",
        "O modelo obteve uma taxa de acerto de 100% tanto no treinamento quanto no teste.\n",
        "A precisão e revocação também são ideais, com valores de 1.0."
      ],
      "metadata": {
        "id": "eaX8tjBu4Dr7"
      }
    },
    {
      "cell_type": "code",
      "source": [
        "teste1 = Classificador(setosa_points,versicolor_points,\"setosa\",\"versicolor\")\n",
        "teste1.exibir_metricas()"
      ],
      "metadata": {
        "id": "DFd6MyXX3xeL"
      },
      "execution_count": null,
      "outputs": []
    },
    {
      "cell_type": "markdown",
      "source": [
        "## Teste 2 - Classes Virginica e Versicolor\n",
        "As classes Virginica e Versicolor têm uma sobreposição considerável, e não são linearmente separáveis. Por causa disso, o modelo não foi calculado e as métricas não foram feitas."
      ],
      "metadata": {
        "id": "gRy9ioBS4oY_"
      }
    },
    {
      "cell_type": "code",
      "source": [
        "teste2 = Classificador(virginica_points,versicolor_points,\"virginica\",\"versicolor\")\n",
        "teste2.exibir_metricas()"
      ],
      "metadata": {
        "id": "zNgsF17X3zpS"
      },
      "execution_count": null,
      "outputs": []
    },
    {
      "cell_type": "markdown",
      "source": [
        "## Teste 3 - Classes Setosa e Virginica\n",
        "Assim como a Setosa e a Versicolor, as classes Setosa e Virginica são bem separadas.\n",
        "O modelo obteve uma taxa de acerto de 100% tanto no treinamento quanto no teste.\n",
        "A precisão e revocação também são ideais, com valores de 1.0."
      ],
      "metadata": {
        "id": "TqoT9DEr4wTb"
      }
    },
    {
      "cell_type": "code",
      "source": [
        "teste3 = Classificador(setosa_points,virginica_points,\"setosa\",\"virginica\")\n",
        "teste3.exibir_metricas()"
      ],
      "metadata": {
        "id": "kgNRyRZD30sc"
      },
      "execution_count": null,
      "outputs": []
    },
    {
      "cell_type": "markdown",
      "source": [
        "Os resultados destes três primeiros testes indicam que o modelo foi altamente eficaz no dataset iris, separando corretamente os dados quando separáveis e indentificando quando não são."
      ],
      "metadata": {
        "id": "X_hQG4WM45l1"
      }
    },
    {
      "cell_type": "markdown",
      "source": [
        "Os próximos 3 testes foram feitos com a base de dados wine, e mostram diferentes casos de interseção de envoltórias"
      ],
      "metadata": {
        "id": "KtBg8C0pRwf3"
      }
    },
    {
      "cell_type": "markdown",
      "source": [
        "## Teste 4 - Classes 0 e 1"
      ],
      "metadata": {
        "id": "zfbbHLeXQchY"
      }
    },
    {
      "cell_type": "code",
      "source": [
        "teste4 = Classificador(wine_classe0, wine_classe1, \"wine_0\", \"wine_1\")\n",
        "teste4.exibir_metricas()"
      ],
      "metadata": {
        "id": "TCB2mnuNQjm6"
      },
      "execution_count": null,
      "outputs": []
    },
    {
      "cell_type": "markdown",
      "source": [
        "## Teste 5 - Classes 0 e 2"
      ],
      "metadata": {
        "id": "YQsbAQLsRVXe"
      }
    },
    {
      "cell_type": "code",
      "source": [
        "teste5 = Classificador(wine_classe0, wine_classe2, \"wine_0\", \"wine_2\")\n",
        "teste5.exibir_metricas()"
      ],
      "metadata": {
        "id": "1mI_8ttlRY0b"
      },
      "execution_count": null,
      "outputs": []
    },
    {
      "cell_type": "markdown",
      "source": [
        "## Teste 6 - Classes 1 e 2"
      ],
      "metadata": {
        "id": "vZshebqeRgyW"
      }
    },
    {
      "cell_type": "code",
      "source": [
        "teste6 = Classificador(wine_classe1, wine_classe2, \"wine_1\", \"wine_2\")\n",
        "teste6.exibir_metricas()"
      ],
      "metadata": {
        "id": "Hy3DRD9pRZTt"
      },
      "execution_count": null,
      "outputs": []
    },
    {
      "cell_type": "markdown",
      "source": [
        "## Teste 7"
      ],
      "metadata": {
        "id": "hRv970h5R3rW"
      }
    },
    {
      "cell_type": "code",
      "source": [
        "wine = load_wine()\n",
        "\n",
        "wine_data = wine.data\n",
        "\n",
        "wine_data = wine_data[:, [2,4,6,10]]\n",
        "\n",
        "svd = TruncatedSVD(n_components=2)\n",
        "wine_teste7 = svd.fit_transform(wine_data)\n",
        "\n",
        "wine_teste7_0 = wine_teste7[wine.target == 0]\n",
        "wine_teste7_1 = wine_teste7[wine.target == 1]\n",
        "wine_teste7_2 = wine_teste7[wine.target == 2]"
      ],
      "metadata": {
        "id": "msD-G5AiSAYK"
      },
      "execution_count": null,
      "outputs": []
    },
    {
      "cell_type": "code",
      "source": [
        "e0 = envoltoriaConvexa(wine_teste7_0)\n",
        "e2 = envoltoriaConvexa(wine_teste7_2)\n",
        "\n",
        "desenhaEnvoltoria(e0)\n",
        "desenhaEnvoltoria(e2)\n",
        "plt.show()\n",
        "\n",
        "varreduraLinear(preparaSegmentos(e0,e2))"
      ],
      "metadata": {
        "id": "6XS96bnYTPYJ"
      },
      "execution_count": null,
      "outputs": []
    },
    {
      "cell_type": "code",
      "source": [
        "teste7 = Classificador(wine_teste7_0, wine_teste7_2, \"wine_teste7_0\", \"wine_teste7_2\")\n",
        "teste7.exibir_metricas()"
      ],
      "metadata": {
        "id": "BKOgQ68JSgui"
      },
      "execution_count": null,
      "outputs": []
    },
    {
      "cell_type": "markdown",
      "source": [
        "## Teste 4 - Wine alterado\n",
        "Agora, testaremos alguns casos em que os dados de treinamento são selecionados manualmente para gerar viés no classificador.\n",
        "\n",
        "Nesse teste, alteramos arbitrariamente o dataset `Wine` para gerar um classificador enviesado."
      ],
      "metadata": {
        "id": "Fal3mjRw5pjK"
      }
    },
    {
      "cell_type": "markdown",
      "source": [
        "Primeiramente, selecionamos as 6 primeiras colunas do dataset, e filtramos apenas as classes 0 e 2. Assim, temos um gráfico propenso ao viés. Note que os dados se interceptam, mas escolheremos o conjunto de treinamento de modo que forme envoltórias separáveis."
      ],
      "metadata": {
        "id": "dTqjthwsDaOp"
      }
    },
    {
      "cell_type": "code",
      "source": [
        "wine_data = wine.data\n",
        "\n",
        "wine_data = wine_data[:, 6:]\n",
        "\n",
        "svd = TruncatedSVD(n_components=2)\n",
        "wine_teste4 = svd.fit_transform(wine_data)\n",
        "\n",
        "wine_teste4 = wine_teste4[wine.target != 1]\n",
        "wine.target = wine.target[wine.target != 1]\n",
        "\n",
        "plt.scatter(wine_teste4[:, 0], wine_teste4[:, 1], c=wine.target)\n",
        "plt.show()"
      ],
      "metadata": {
        "id": "yIhY8dwADBxg"
      },
      "execution_count": null,
      "outputs": []
    },
    {
      "cell_type": "markdown",
      "source": [
        "Para gerar os dados de treinamento, iremos separar da classe 0 (roxa) os dados com as coordenadas `x > 900` e `y < 0`. Da classe 1 (amarela), separaremos para treinamento os dados com coordenadas `y > 2`. Assim, podemos ver que os dados de treinamento são separáveis, e poderemos verificar a taxa de erros do modelo gerado."
      ],
      "metadata": {
        "id": "Oty3Nw6HDpNo"
      }
    },
    {
      "cell_type": "code",
      "source": [
        "classe0 = wine_teste4[wine.target == 0]\n",
        "classe2 = wine_teste4[wine.target == 2]\n",
        "\n",
        "treinamento1 = classe0[classe0[:, 0] > 900]\n",
        "linhas = treinamento1[:, 1] < 0\n",
        "\n",
        "testes1 = np.concatenate([classe0[classe0[:, 0] < 900], treinamento1[~linhas]])\n",
        "treinamento1 = treinamento1[linhas]\n",
        "\n",
        "treinamento2 = classe2[classe2[:, 1] > 2]\n",
        "testes2 = classe2[classe2[:, 1] < 2]\n",
        "\n",
        "plt.scatter(treinamento1[:, 0], treinamento1[:, 1], c='red')\n",
        "plt.scatter(testes1[:, 0], testes1[:, 1], c='green')\n",
        "plt.scatter(treinamento2[:, 0], treinamento2[:, 1], c='blue')\n",
        "plt.scatter(testes2[:, 0], testes2[:, 1], c='brown')\n",
        "plt.show()"
      ],
      "metadata": {
        "id": "7CNoCYM3EOQG"
      },
      "execution_count": null,
      "outputs": []
    },
    {
      "cell_type": "code",
      "source": [
        "teste = Classificador(classe0, classe2, \"Classe 0\", \"Classe 2\", rodar_automaticamente=False)\n",
        "\n",
        "teste.setar_treino_teste(treinamento1, testes1, treinamento2, testes2)\n",
        "teste.treinar()\n",
        "\n",
        "if teste.intersecao:\n",
        "  print(\"Os dados de treinamento das classes 0 e 2 não são separáveis\")\n",
        "\n",
        "teste.desenha_grafico()\n",
        "teste.exibir_metricas()"
      ],
      "metadata": {
        "id": "3fN4OVBmJ18r"
      },
      "execution_count": null,
      "outputs": []
    },
    {
      "cell_type": "markdown",
      "source": [
        "## Teste 5"
      ],
      "metadata": {
        "id": "_SzSCzhrNkQQ"
      }
    },
    {
      "cell_type": "code",
      "source": [
        "wine = load_wine()\n",
        "\n",
        "wine_data = wine.data\n",
        "\n",
        "wine_data = wine_data[:, [1,2,6,8,10]]\n",
        "\n",
        "svd = TruncatedSVD(n_components=2)\n",
        "wine_teste5 = svd.fit_transform(wine_data)\n",
        "\n",
        "wine_teste5 = wine_teste5[wine.target != 1]\n",
        "wine.target = wine.target[wine.target != 1]\n",
        "\n",
        "plt.scatter(wine_teste5[:, 0], wine_teste5[:, 1], c=wine.target)\n",
        "plt.show()"
      ],
      "metadata": {
        "id": "T_j9MU4ANjrI"
      },
      "execution_count": null,
      "outputs": []
    },
    {
      "cell_type": "code",
      "source": [
        "teste = Classificador(wine_teste5[wine.target == 0], wine_teste5[wine.target == 2], \"Classe 0\", \"Classe 2\")"
      ],
      "metadata": {
        "id": "Jnodd3ewOJhE"
      },
      "execution_count": null,
      "outputs": []
    }
  ],
  "metadata": {
    "kernelspec": {
      "display_name": "Python 3 (ipykernel)",
      "language": "python",
      "name": "python3"
    },
    "language_info": {
      "codemirror_mode": {
        "name": "ipython",
        "version": 3
      },
      "file_extension": ".py",
      "mimetype": "text/x-python",
      "name": "python",
      "nbconvert_exporter": "python",
      "pygments_lexer": "ipython3",
      "version": "3.9.9"
    },
    "colab": {
      "provenance": []
    }
  },
  "nbformat": 4,
  "nbformat_minor": 0
}